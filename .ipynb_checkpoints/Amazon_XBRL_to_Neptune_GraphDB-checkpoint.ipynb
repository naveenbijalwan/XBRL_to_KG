{
 "cells": [
  {
   "cell_type": "markdown",
   "id": "f50781e9",
   "metadata": {},
   "source": [
    "# 📊 Amazon XBRL to Amazon Neptune GraphDB Pipeline"
   ]
  },
  {
   "cell_type": "code",
   "execution_count": null,
   "id": "87c2e8d2",
   "metadata": {},
   "outputs": [],
   "source": [
    "!pip install rdflib boto3 gremlinpython arelle --quiet\n"
   ]
  },
  {
   "cell_type": "code",
   "execution_count": null,
   "id": "5f8d4b48",
   "metadata": {},
   "outputs": [],
   "source": [
    "from rdflib import Graph, URIRef, Literal, Namespace\n",
    "from rdflib.namespace import RDF\n",
    "from arelle import Cntlr, ModelXbrl\n",
    "\n",
    "EX = Namespace(\"http://example.org/xbrl/\")\n",
    "g = Graph()\n",
    "g.bind(\"ex\", EX)\n",
    "\n",
    "cntlr = Cntlr.Cntlr(logFileName=\"logToPrint\")\n",
    "model_xbrl = ModelXbrl.load(cntlr, \"amzn-20241231_htm.xml\")\n",
    "\n",
    "for fact in model_xbrl.facts:\n",
    "    uri = URIRef(EX[str(fact.contextID) + \"/\" + str(fact.qname.localName)])\n",
    "    g.add((uri, RDF.type, EX.XBRLFact))\n",
    "    g.add((uri, EX.contextRef, Literal(fact.contextID)))\n",
    "    g.add((uri, EX.concept, Literal(fact.qname.localName)))\n",
    "    g.add((uri, EX.value, Literal(fact.value)))\n",
    "    if fact.unitID:\n",
    "        g.add((uri, EX.unit, Literal(fact.unitID)))\n",
    "\n",
    "g.serialize(\"output.rdf\", format=\"xml\")\n",
    "print(\"✅ RDF triples saved to output.rdf\")\n"
   ]
  },
  {
   "cell_type": "code",
   "execution_count": null,
   "id": "e34c6489",
   "metadata": {},
   "outputs": [],
   "source": [
    "from gremlin_python.structure.graph import Graph\n",
    "from gremlin_python.driver.driver_remote_connection import DriverRemoteConnection\n",
    "\n",
    "NEPTUNE_ENDPOINT = \"wss://<your-neptune-endpoint>:8182/gremlin\"\n",
    "gsql = Graph().traversal().withRemote(DriverRemoteConnection(NEPTUNE_ENDPOINT, \"g\"))\n",
    "print(\"🔗 Connected to Amazon Neptune\")\n",
    "\n",
    "gsql.addV(\"Fact\").property(\"concept\", \"Revenue\").property(\"year\", \"2024\").property(\"value\", \"999000\").next()\n"
   ]
  },
  {
   "cell_type": "code",
   "execution_count": null,
   "id": "100eab13",
   "metadata": {},
   "outputs": [],
   "source": [
    "for year in ['2022', '2023', '2024']:\n",
    "    g.add((URIRef(EX[\"Revenue_\" + year]), RDF.type, EX.FinancialMetric))\n",
    "    g.add((URIRef(EX[\"Revenue_\" + year]), EX.value, Literal(900000 + 5000 * int(year))))\n",
    "    g.add((URIRef(EX[\"Revenue_\" + year]), EX.year, Literal(year)))\n",
    "\n",
    "g.add((URIRef(EX[\"Revenue_2022\"]), EX.nextYear, URIRef(EX[\"Revenue_2023\"])))\n",
    "g.add((URIRef(EX[\"Revenue_2023\"]), EX.nextYear, URIRef(EX[\"Revenue_2024\"])))\n",
    "\n",
    "g.serialize(\"temporal_linkbase.ttl\", format=\"turtle\")\n",
    "print(\"🎯 Exported TTL file: temporal_linkbase.ttl\")\n"
   ]
  }
 ],
 "metadata": {},
 "nbformat": 4,
 "nbformat_minor": 5
}
