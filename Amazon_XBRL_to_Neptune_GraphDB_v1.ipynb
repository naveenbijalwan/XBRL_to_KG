{
 "cells": [
  {
   "cell_type": "code",
   "execution_count": 1,
   "id": "a3eda6fc",
   "metadata": {},
   "outputs": [
    {
     "name": "stdout",
     "output_type": "stream",
     "text": [
      "Requirement already satisfied: rdflib in /home/ec2-user/anaconda3/envs/JupyterSystemEnv/lib/python3.10/site-packages (7.0.0)\r\n",
      "Requirement already satisfied: boto3 in /home/ec2-user/anaconda3/envs/JupyterSystemEnv/lib/python3.10/site-packages (1.38.1)\r\n",
      "Requirement already satisfied: gremlinpython in /home/ec2-user/anaconda3/envs/JupyterSystemEnv/lib/python3.10/site-packages (3.7.2)\r\n",
      "Requirement already satisfied: arelle in /home/ec2-user/anaconda3/envs/JupyterSystemEnv/lib/python3.10/site-packages (2.2)\r\n",
      "Requirement already satisfied: aiohttp in /home/ec2-user/anaconda3/envs/JupyterSystemEnv/lib/python3.10/site-packages (3.11.18)\r\n",
      "Requirement already satisfied: isodate<0.7.0,>=0.6.0 in /home/ec2-user/anaconda3/envs/JupyterSystemEnv/lib/python3.10/site-packages (from rdflib) (0.6.1)\r\n",
      "Requirement already satisfied: pyparsing<4,>=2.1.0 in /home/ec2-user/anaconda3/envs/JupyterSystemEnv/lib/python3.10/site-packages (from rdflib) (3.2.3)\r\n",
      "Requirement already satisfied: botocore<1.39.0,>=1.38.1 in /home/ec2-user/anaconda3/envs/JupyterSystemEnv/lib/python3.10/site-packages (from boto3) (1.38.1)\r\n",
      "Requirement already satisfied: jmespath<2.0.0,>=0.7.1 in /home/ec2-user/anaconda3/envs/JupyterSystemEnv/lib/python3.10/site-packages (from boto3) (1.0.1)\r\n",
      "Requirement already satisfied: s3transfer<0.13.0,>=0.12.0 in /home/ec2-user/anaconda3/envs/JupyterSystemEnv/lib/python3.10/site-packages (from boto3) (0.12.0)\r\n",
      "Requirement already satisfied: nest-asyncio in /home/ec2-user/anaconda3/envs/JupyterSystemEnv/lib/python3.10/site-packages (from gremlinpython) (1.6.0)\r\n",
      "Requirement already satisfied: aenum<4.0.0,>=1.4.5 in /home/ec2-user/anaconda3/envs/JupyterSystemEnv/lib/python3.10/site-packages (from gremlinpython) (3.1.16)\r\n",
      "Requirement already satisfied: six<2.0.0,>=1.10.0 in /home/ec2-user/anaconda3/envs/JupyterSystemEnv/lib/python3.10/site-packages (from gremlinpython) (1.17.0)\r\n",
      "Requirement already satisfied: aiohappyeyeballs>=2.3.0 in /home/ec2-user/anaconda3/envs/JupyterSystemEnv/lib/python3.10/site-packages (from aiohttp) (2.6.1)\r\n",
      "Requirement already satisfied: aiosignal>=1.1.2 in /home/ec2-user/anaconda3/envs/JupyterSystemEnv/lib/python3.10/site-packages (from aiohttp) (1.3.2)\r\n",
      "Requirement already satisfied: async-timeout<6.0,>=4.0 in /home/ec2-user/anaconda3/envs/JupyterSystemEnv/lib/python3.10/site-packages (from aiohttp) (4.0.3)\r\n",
      "Requirement already satisfied: attrs>=17.3.0 in /home/ec2-user/anaconda3/envs/JupyterSystemEnv/lib/python3.10/site-packages (from aiohttp) (23.2.0)\r\n",
      "Requirement already satisfied: frozenlist>=1.1.1 in /home/ec2-user/anaconda3/envs/JupyterSystemEnv/lib/python3.10/site-packages (from aiohttp) (1.5.0)\r\n",
      "Requirement already satisfied: multidict<7.0,>=4.5 in /home/ec2-user/anaconda3/envs/JupyterSystemEnv/lib/python3.10/site-packages (from aiohttp) (6.4.3)\r\n",
      "Requirement already satisfied: propcache>=0.2.0 in /home/ec2-user/anaconda3/envs/JupyterSystemEnv/lib/python3.10/site-packages (from aiohttp) (0.3.1)\r\n",
      "Requirement already satisfied: yarl<2.0,>=1.17.0 in /home/ec2-user/anaconda3/envs/JupyterSystemEnv/lib/python3.10/site-packages (from aiohttp) (1.20.0)\r\n",
      "Requirement already satisfied: python-dateutil<3.0.0,>=2.1 in /home/ec2-user/anaconda3/envs/JupyterSystemEnv/lib/python3.10/site-packages (from botocore<1.39.0,>=1.38.1->boto3) (2.9.0.post0)\r\n",
      "Requirement already satisfied: urllib3!=2.2.0,<3,>=1.25.4 in /home/ec2-user/anaconda3/envs/JupyterSystemEnv/lib/python3.10/site-packages (from botocore<1.39.0,>=1.38.1->boto3) (2.4.0)\r\n",
      "Requirement already satisfied: typing-extensions>=4.1.0 in /home/ec2-user/anaconda3/envs/JupyterSystemEnv/lib/python3.10/site-packages (from multidict<7.0,>=4.5->aiohttp) (4.13.2)\r\n",
      "Requirement already satisfied: idna>=2.0 in /home/ec2-user/anaconda3/envs/JupyterSystemEnv/lib/python3.10/site-packages (from yarl<2.0,>=1.17.0->aiohttp) (3.10)\r\n"
     ]
    }
   ],
   "source": [
    "!pip install rdflib boto3 gremlinpython arelle  aiohttp "
   ]
  },
  {
   "cell_type": "code",
   "execution_count": 2,
   "id": "c30ff793",
   "metadata": {},
   "outputs": [
    {
     "name": "stdout",
     "output_type": "stream",
     "text": [
      "total 5852\r\n",
      "-rw-rw-r-- 1 ec2-user ec2-user   23208 May 29 00:47 Amazon_XBRL_to_Neptune_GraphDB.ipynb\r\n",
      "-rw-rw-r-- 1 ec2-user ec2-user  186788 May 29 00:30 amzn-20241231_cal.xml\r\n",
      "-rw-rw-r-- 1 ec2-user ec2-user  382312 May 29 00:30 amzn-20241231_def.xml\r\n",
      "-rw-rw-r-- 1 ec2-user ec2-user 1900279 May 29 00:30 amzn-20241231_htm.xml\r\n",
      "-rw-rw-r-- 1 ec2-user ec2-user 1025798 May 29 00:30 amzn-20241231_lab.xml\r\n",
      "-rw-rw-r-- 1 ec2-user ec2-user  703884 May 29 00:30 amzn-20241231_pre.xml\r\n",
      "-rw-rw-r-- 1 ec2-user ec2-user   85177 May 29 00:30 amzn-20241231.xsd\r\n",
      "-rw-rw-r-- 1 ec2-user ec2-user 1654667 May 29 00:30 amzn_facts.json\r\n",
      "drwx------ 2 root     root       16384 May 28 03:07 lost+found\r\n",
      "drwxrwxr-x 7 ec2-user ec2-user    4096 May 29 00:30 Neptune\r\n"
     ]
    }
   ],
   "source": [
    "!ls -l"
   ]
  },
  {
   "cell_type": "code",
   "execution_count": 48,
   "id": "4047f1d7",
   "metadata": {},
   "outputs": [],
   "source": [
    "import json\n",
    "import ssl\n",
    "from gremlin_python.driver.driver_remote_connection import DriverRemoteConnection\n",
    "from gremlin_python.structure.graph import Graph\n",
    "from gremlin_python.driver.aiohttp.transport import AiohttpTransport\n",
    "\n",
    "# Neptune endpoint setup\n",
    "NEPTUNE_ENDPOINT = \"wss://db-neptune-1.cluster-cuzxvxpbce3r.us-east-1.neptune.amazonaws.com:8182/gremlin\"\n",
    "ssl_context = ssl.create_default_context()\n",
    "ssl_context.check_hostname = False\n",
    "ssl_context.verify_mode = ssl.CERT_NONE\n",
    "transport = AiohttpTransport(ssl_context=ssl_context)\n",
    "\n",
    "# Graph connection\n",
    "graph = Graph()\n",
    "connection = DriverRemoteConnection(NEPTUNE_ENDPOINT, \"g\", transport_factory=lambda: transport)\n",
    "g = graph.traversal().withRemote(connection)\n",
    "\n",
    "# Clear existing graph (optional)\n",
    "try:\n",
    "    g.V().drop().toList()\n",
    "except Exception as e:\n",
    "    print(f\"Graph clear error: {e}\")"
   ]
  },
  {
   "cell_type": "code",
   "execution_count": 49,
   "id": "f3ce0b8a",
   "metadata": {},
   "outputs": [
    {
     "name": "stdout",
     "output_type": "stream",
     "text": [
      "✅ Loaded 1499 facts\n"
     ]
    }
   ],
   "source": [
    "import json\n",
    "from gremlin_python.structure.graph import Graph\n",
    "from gremlin_python.driver.driver_remote_connection import DriverRemoteConnection\n",
    "from gremlin_python.driver.aiohttp.transport import AiohttpTransport\n",
    "import ssl\n",
    "import xml.etree.ElementTree as ET\n",
    "\n",
    "# Neptune connection\n",
    "NEPTUNE_ENDPOINT = \"wss://db-neptune-1.cluster-cuzxvxpbce3r.us-east-1.neptune.amazonaws.com:8182/gremlin\"\n",
    "ssl_ctx = ssl.create_default_context()\n",
    "ssl_ctx.check_hostname = False\n",
    "ssl_ctx.verify_mode = ssl.CERT_NONE\n",
    "transport = AiohttpTransport(ssl_context=ssl_ctx)\n",
    "connection = DriverRemoteConnection(NEPTUNE_ENDPOINT, \"g\", transport_factory=lambda: transport)\n",
    "graph = Graph()\n",
    "g = graph.traversal().withRemote(connection)\n",
    "\n",
    "# Clear graph\n",
    "try: g.V().drop().toList()\n",
    "except: print(\"Graph clear failed or already empty\")\n",
    "\n",
    "# Load and process facts\n",
    "with open(\"amzn_facts.json\") as f:\n",
    "    data = json.load(f)\n",
    "\n",
    "# Adjust depending on real structure\n",
    "if isinstance(data, dict) and \"factList\" in data and isinstance(data[\"factList\"], list):\n",
    "    facts = data[\"factList\"]\n",
    "elif isinstance(data, list):\n",
    "    facts = data\n",
    "else:\n",
    "    raise ValueError(\"Unknown structure in amzn_facts.json\")\n",
    "\n",
    "fact_nodes = {}\n",
    "count = 0\n",
    "for i, fact in enumerate(facts):\n",
    "    if isinstance(fact, list) and len(fact) >= 2:\n",
    "        concept = str(fact[0])\n",
    "        value = str(fact[1])\n",
    "        node = g.addV(\"Fact\").property(\"id\", concept).property(\"value\", value).next()\n",
    "        fact_nodes[concept] = node\n",
    "        count += 1\n",
    "\n",
    "print(f\"✅ Loaded {count} facts\")\n"
   ]
  },
  {
   "cell_type": "code",
   "execution_count": 51,
   "id": "a81d7067",
   "metadata": {},
   "outputs": [
    {
     "name": "stdout",
     "output_type": "stream",
     "text": [
      "✅ Graph cleared\n",
      "📊 Facts parsed: 1499\n",
      "✅ Nodes inserted: 1372\n",
      "✅ calculation edges added: 0\n",
      "✅ definition edges added: 0\n",
      "✅ label edges added: 0\n",
      "✅ presentation edges added: 0\n",
      "✅ Temporal edges added: 967\n",
      "✅ Graph build complete\n"
     ]
    }
   ],
   "source": [
    "import json\n",
    "import ssl\n",
    "import xml.etree.ElementTree as ET\n",
    "from gremlin_python.structure.graph import Graph\n",
    "from gremlin_python.driver.driver_remote_connection import DriverRemoteConnection\n",
    "from gremlin_python.driver.aiohttp.transport import AiohttpTransport\n",
    "from gremlin_python.process.graph_traversal import __\n",
    "\n",
    "# Neptune setup\n",
    "NEPTUNE_ENDPOINT = \"wss://db-neptune-1.cluster-cuzxvxpbce3r.us-east-1.neptune.amazonaws.com:8182/gremlin\"\n",
    "ssl_ctx = ssl.create_default_context()\n",
    "ssl_ctx.check_hostname = False\n",
    "ssl_ctx.verify_mode = ssl.CERT_NONE\n",
    "transport = AiohttpTransport(ssl_context=ssl_ctx)\n",
    "connection = DriverRemoteConnection(NEPTUNE_ENDPOINT, \"g\", transport_factory=lambda: transport)\n",
    "graph = Graph()\n",
    "g = graph.traversal().withRemote(connection)\n",
    "\n",
    "# Clear graph\n",
    "try:\n",
    "    g.V().drop().toList()\n",
    "    print(\"✅ Graph cleared\")\n",
    "except Exception as e:\n",
    "    print(\"⚠️ Graph clear failed:\", e)\n",
    "\n",
    "# Load JSON facts\n",
    "with open(\"amzn_facts.json\") as f:\n",
    "    data = json.load(f)\n",
    "\n",
    "facts = data.get(\"factList\", [])\n",
    "fact_nodes = {}\n",
    "label_to_concept = {}\n",
    "temporal_map = {}\n",
    "\n",
    "# Create fact nodes\n",
    "for i, fact in enumerate(facts):\n",
    "    if isinstance(fact, list) and len(fact) == 3:\n",
    "        name = fact[1].get(\"name\")\n",
    "        value = fact[2].get(\"value\")\n",
    "        context = fact[2].get(\"contextRef\")\n",
    "        label = fact[2].get(\"label\", name)\n",
    "\n",
    "        if name and value:\n",
    "            uid = f\"{name}_{context}\"\n",
    "            g.addV(\"Fact\")\\\n",
    "                .property(\"id\", uid)\\\n",
    "                .property(\"name\", name)\\\n",
    "                .property(\"value\", value)\\\n",
    "                .property(\"context\", context)\\\n",
    "                .property(\"label\", label)\\\n",
    "                .next()\n",
    "\n",
    "            fact_nodes[uid] = uid\n",
    "            label_to_concept[f\"loc_{name}\"] = uid\n",
    "            temporal_map.setdefault(name, []).append((context, uid))\n",
    "\n",
    "print(\"📊 Facts parsed:\", len(facts))\n",
    "print(\"✅ Nodes inserted:\", len(fact_nodes))\n",
    "\n",
    "# Parse arcs from linkbases\n",
    "def parse_arcs(xml_path, arc_tag, edge_label):\n",
    "    tree = ET.parse(xml_path)\n",
    "    root = tree.getroot()\n",
    "    ns = {'link': 'http://www.xbrl.org/2003/linkbase', 'xlink': 'http://www.w3.org/1999/xlink'}\n",
    "\n",
    "    label_map = {}\n",
    "    for loc in root.findall(\".//link:loc\", ns):\n",
    "        label = loc.attrib.get('{http://www.w3.org/1999/xlink}label')\n",
    "        href = loc.attrib.get('{http://www.w3.org/1999/xlink}href')\n",
    "        if label and href:\n",
    "            concept = href.split(\"#\")[-1]\n",
    "            uid = label_to_concept.get(f\"loc_{concept}\")\n",
    "            if uid:\n",
    "                label_map[label] = uid\n",
    "\n",
    "    edge_count = 0\n",
    "    for arc in root.findall(f\".//link:{arc_tag}\", ns):\n",
    "        from_label = arc.attrib.get('{http://www.w3.org/1999/xlink}from')\n",
    "        to_label = arc.attrib.get('{http://www.w3.org/1999/xlink}to')\n",
    "        from_id = label_map.get(from_label)\n",
    "        to_id = label_map.get(to_label)\n",
    "\n",
    "        if from_id in fact_nodes and to_id in fact_nodes:\n",
    "            try:\n",
    "                g.V().has(\"id\", from_id).addE(edge_label).to(__.V().has(\"id\", to_id)).next()\n",
    "                edge_count += 1\n",
    "            except:\n",
    "                continue\n",
    "\n",
    "    print(f\"✅ {edge_label} edges added:\", edge_count)\n",
    "\n",
    "# Linkbase parsing\n",
    "parse_arcs(\"amzn-20241231_cal.xml\", \"calculationArc\", \"calculation\")\n",
    "parse_arcs(\"amzn-20241231_def.xml\", \"definitionArc\", \"definition\")\n",
    "parse_arcs(\"amzn-20241231_lab.xml\", \"labelArc\", \"label\")\n",
    "parse_arcs(\"amzn-20241231_pre.xml\", \"presentationArc\", \"presentation\")\n",
    "\n",
    "# Add temporal links\n",
    "temporal_links = 0\n",
    "for concept, entries in temporal_map.items():\n",
    "    entries.sort()  # sort by contextRef\n",
    "    for i in range(len(entries) - 1):\n",
    "        from_uid = entries[i][1]\n",
    "        to_uid = entries[i + 1][1]\n",
    "        if from_uid in fact_nodes and to_uid in fact_nodes:\n",
    "            try:\n",
    "                g.V().has(\"id\", from_uid).addE(\"temporal\").to(__.V().has(\"id\", to_uid)).next()\n",
    "                temporal_links += 1\n",
    "            except:\n",
    "                continue\n",
    "\n",
    "print(\"✅ Temporal edges added:\", temporal_links)\n",
    "print(\"✅ Graph build complete\")\n"
   ]
  },
  {
   "cell_type": "code",
   "execution_count": 52,
   "id": "91dc89cd",
   "metadata": {},
   "outputs": [],
   "source": [
    "my_node_labels = '{\"Fact\":\"id\"}'  # assumes 'Fact' vertices have an 'id' property\n",
    "my_edge_labels = '{\"calculation\":\"label\", \"definition\":\"label\", \"label\":\"label\", \"presentation\":\"label\", \"nextYear\":\"label\"}'\n"
   ]
  },
  {
   "cell_type": "code",
   "execution_count": 53,
   "id": "09ce132a",
   "metadata": {},
   "outputs": [
    {
     "data": {
      "application/vnd.jupyter.widget-view+json": {
       "model_id": "07e78c6e4cfc4c1799314751837fab2a",
       "version_major": 2,
       "version_minor": 0
      },
      "text/plain": [
       "Tab(children=(Output(layout=Layout(max_height='600px', max_width='940px', overflow='scroll')), Force(network=<…"
      ]
     },
     "metadata": {},
     "output_type": "display_data"
    }
   ],
   "source": [
    "%%gremlin -d id -g id -de label -l 20\n",
    "g.V().hasLabel('Fact').outE(\"temporal\").inV().path().by(elementMap()).limit(20)\n"
   ]
  },
  {
   "cell_type": "code",
   "execution_count": null,
   "id": "f0516067",
   "metadata": {},
   "outputs": [],
   "source": []
  }
 ],
 "metadata": {
  "kernelspec": {
   "display_name": "Python 3",
   "language": "python",
   "name": "python3"
  },
  "language_info": {
   "codemirror_mode": {
    "name": "ipython",
    "version": 3
   },
   "file_extension": ".py",
   "mimetype": "text/x-python",
   "name": "python",
   "nbconvert_exporter": "python",
   "pygments_lexer": "ipython3",
   "version": "3.10.17"
  }
 },
 "nbformat": 4,
 "nbformat_minor": 5
}
